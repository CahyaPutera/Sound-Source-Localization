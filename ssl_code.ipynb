{
  "nbformat": 4,
  "nbformat_minor": 0,
  "metadata": {
    "kernelspec": {
      "display_name": "Python 3",
      "language": "python",
      "name": "python3"
    },
    "language_info": {
      "codemirror_mode": {
        "name": "ipython",
        "version": 3
      },
      "file_extension": ".py",
      "mimetype": "text/x-python",
      "name": "python",
      "nbconvert_exporter": "python",
      "pygments_lexer": "ipython3",
      "version": "3.7.3"
    },
    "colab": {
      "name": "ssl_code.ipynb",
      "provenance": [],
      "collapsed_sections": []
    }
  },
  "cells": [
    {
      "cell_type": "markdown",
      "metadata": {
        "id": "0WVNc-1Xq7wK"
      },
      "source": [
        "# Sound Source Localization - Demonstration\n",
        "\n",
        "## Project Definition\n",
        "Build MLP and CNN network for Sound Source Localization.\n",
        "\n",
        "## Project Details\n",
        "* Input: binaural audio files, output: labels\n",
        "* Classify 3 azimuth angles using binaural audio files as inputs. The azimuth angles are: 0, 30, and 60 degrees\n",
        "* Use MFCC as input features\n",
        "* Metrics: classification accuracy\n",
        "\n",
        "\n",
        "## The link to the dataset:\n",
        "\n",
        "bit.ly/ssl_demo\n",
        "\n",
        "\n",
        "## The Process:\n",
        " <ol>\n",
        "  <li>Mount google drive to acquire datset</li>\n",
        "  <li>Locate data and copy it to google colab</li>\n",
        "  <li>Import libraries</li>\n",
        "  <li>Load data</li>\n",
        "  <li>Build Neural Network</li>\n",
        "  <li>Train model</li>\n",
        "  <li>Test model</li>\n",
        "  <li>Evaluate model</li>\n",
        "</ol> \n",
        "\n",
        "\n"
      ]
    },
    {
      "cell_type": "markdown",
      "metadata": {
        "id": "MDXKUCMkrJUP"
      },
      "source": [
        "## 1. Mount google drive"
      ]
    },
    {
      "cell_type": "code",
      "metadata": {
        "id": "Bpy7QhAXx_8q",
        "outputId": "424884c5-0674-42c6-dc13-c9814db87cbb",
        "colab": {
          "base_uri": "https://localhost:8080/",
          "height": 36
        }
      },
      "source": [
        "# Mount Google Drive to get dataset\n",
        "from google.colab import drive\n",
        "drive.mount('/content/drive')"
      ],
      "execution_count": null,
      "outputs": [
        {
          "output_type": "stream",
          "text": [
            "Mounted at /content/drive\n"
          ],
          "name": "stdout"
        }
      ]
    },
    {
      "cell_type": "markdown",
      "metadata": {
        "id": "Reu0IZ0nVnSG"
      },
      "source": [
        "#### Link to dataset\n",
        "bit.ly/ssl_demo"
      ]
    },
    {
      "cell_type": "markdown",
      "metadata": {
        "id": "CWhugN-gYKz5"
      },
      "source": [
        "## 2. Locate data and copy it to google colab"
      ]
    },
    {
      "cell_type": "code",
      "metadata": {
        "id": "dsKFlUnJyAPE",
        "outputId": "17f2fc43-5232-4e79-98ea-e79b70475188",
        "colab": {
          "base_uri": "https://localhost:8080/",
          "height": 74
        }
      },
      "source": [
        "# This will take approximately 1 minutes\n",
        "\n",
        "!cp '/content/drive/My Drive/ssl_demo_personal/ssl_dataset.zip' .\n",
        "!unzip -q ssl_dataset.zip"
      ],
      "execution_count": null,
      "outputs": [
        {
          "output_type": "stream",
          "text": [
            "cp: cannot stat '/content/drive/My Drive/ssl_demo_personal/ssl_dataset.zip': No such file or directory\n",
            "unzip:  cannot find or open ssl_dataset.zip, ssl_dataset.zip.zip or ssl_dataset.zip.ZIP.\n"
          ],
          "name": "stdout"
        }
      ]
    },
    {
      "cell_type": "markdown",
      "metadata": {
        "id": "ID4I9qAQVYg9"
      },
      "source": [
        "## 3. Import libraries"
      ]
    },
    {
      "cell_type": "code",
      "metadata": {
        "id": "wNz2lNE0rToc",
        "outputId": "19ce5591-5f97-4060-9d10-bb14537d3c16",
        "colab": {
          "base_uri": "https://localhost:8080/",
          "height": 205
        }
      },
      "source": [
        "!pip install python_speech_features"
      ],
      "execution_count": null,
      "outputs": [
        {
          "output_type": "stream",
          "text": [
            "Collecting python_speech_features\n",
            "  Downloading https://files.pythonhosted.org/packages/ff/d1/94c59e20a2631985fbd2124c45177abaa9e0a4eee8ba8a305aa26fc02a8e/python_speech_features-0.6.tar.gz\n",
            "Building wheels for collected packages: python-speech-features\n",
            "  Building wheel for python-speech-features (setup.py) ... \u001b[?25l\u001b[?25hdone\n",
            "  Created wheel for python-speech-features: filename=python_speech_features-0.6-cp36-none-any.whl size=5887 sha256=c2cbc04ac75b265045b0f36d7687eb79e01f0a50f361e130bde8d0c28d6e8aed\n",
            "  Stored in directory: /root/.cache/pip/wheels/3c/42/7c/f60e9d1b40015cd69b213ad90f7c18a9264cd745b9888134be\n",
            "Successfully built python-speech-features\n",
            "Installing collected packages: python-speech-features\n",
            "Successfully installed python-speech-features-0.6\n"
          ],
          "name": "stdout"
        }
      ]
    },
    {
      "cell_type": "code",
      "metadata": {
        "id": "dDxBDkZr_9yf",
        "outputId": "81ac22f3-5ba1-4463-d0b8-f4ddc9707943",
        "colab": {
          "base_uri": "https://localhost:8080/",
          "height": 36
        }
      },
      "source": [
        "!pip install tqdm"
      ],
      "execution_count": null,
      "outputs": [
        {
          "output_type": "stream",
          "text": [
            "Requirement already satisfied: tqdm in /usr/local/lib/python3.6/dist-packages (4.41.1)\n"
          ],
          "name": "stdout"
        }
      ]
    },
    {
      "cell_type": "code",
      "metadata": {
        "id": "abqoeI6nq1jF"
      },
      "source": [
        "import os\n",
        "import pickle\n",
        "import keras\n",
        "import pickle\n",
        "import numpy as np\n",
        "import pandas as pd\n",
        "import seaborn as sn\n",
        "import tensorflow as tf\n",
        "import matplotlib.pyplot as plt\n",
        "\n",
        "from tqdm import tqdm\n",
        "from scipy.io import wavfile\n",
        "from python_speech_features import mfcc\n",
        "from sklearn.metrics import accuracy_score, classification_report\n",
        "from sklearn.utils.class_weight import compute_class_weight\n",
        "\n",
        "from keras import optimizers\n",
        "from keras import regularizers\n",
        "from keras.layers import Conv2D, MaxPool2D, Flatten, LSTM, GRU, Dropout, Dense, TimeDistributed, Bidirectional\n",
        "from keras.models import Sequential, load_model\n",
        "from keras.utils import to_categorical\n",
        "from keras.callbacks import ModelCheckpoint"
      ],
      "execution_count": null,
      "outputs": []
    },
    {
      "cell_type": "markdown",
      "metadata": {
        "id": "5nz8-a9Xtc9Y"
      },
      "source": [
        "## 4. Load data\n",
        "\n"
      ]
    },
    {
      "cell_type": "markdown",
      "metadata": {
        "id": "rW1YNHoJ_5kD"
      },
      "source": [
        "### 4.A. Build helper function to load data"
      ]
    },
    {
      "cell_type": "code",
      "metadata": {
        "id": "xtvoTo66rtcW"
      },
      "source": [
        "# Data pickling and saving\n",
        "class Config:\n",
        "    def __init__(self, mode='conv', nfilt=26, nfeat=13, nfft=2048, rate=44100):\n",
        "        self.mode = mode\n",
        "        self.nfilt = nfilt\n",
        "        self.nfeat = nfeat\n",
        "        self.nfft = nfft\n",
        "        self.rate = rate\n",
        "        self.step = int(rate/10)\n",
        "        self.model_path = os.path.join('models',mode + '.model')\n",
        "        self.p_path = os.path.join('pickles', mode + '.p')"
      ],
      "execution_count": null,
      "outputs": []
    },
    {
      "cell_type": "code",
      "metadata": {
        "id": "cKDuvkb7z8v8"
      },
      "source": [
        "# Check whether the data already loaded\n",
        "def check_data():\n",
        "    if os.path.isfile(config.p_path):\n",
        "        print('Loading existing data for {} model'.format(config.mode))\n",
        "        with open(config.p_path, 'rb') as handle:\n",
        "            tmp = pickle.load(handle)\n",
        "            return tmp\n",
        "    else:\n",
        "        return None"
      ],
      "execution_count": null,
      "outputs": []
    },
    {
      "cell_type": "code",
      "metadata": {
        "id": "OxIiryjUq1jw"
      },
      "source": [
        "# Load data array, convert it to MFCC, and save it to pickle file\n",
        "def build_rand_feat():\n",
        "    tmp = check_data()\n",
        "    if tmp:\n",
        "        return tmp.data[0], tmp.data[1]\n",
        "    X = []\n",
        "    y = []\n",
        "    _min, _max = float('inf'), -float('inf')\n",
        "    for _ in tqdm(range(n_samples)):\n",
        "        rand_class = np.random.choice(class_dist.index, p=prob_dist)\n",
        "        file = np.random.choice(df[df.label==rand_class].index)\n",
        "        \n",
        "        # Load data\n",
        "        rate, wav = wavfile.read('train_files/'+file) \n",
        "        label = df.at[file, 'label']\n",
        "        #print(f\"Number of Channels = {wav.shape[1]}\")\n",
        "\n",
        "        # Sample data\n",
        "        rand_index = np.random.randint(0, wav.shape[0]-config.step)  #random index for sampling start point      \n",
        "        sample = wav[rand_index:rand_index+config.step] #sampling end after 0.1 second or 4410 index \n",
        "\n",
        "        # Convert to MFCC\n",
        "        X_sample = mfcc(sample, rate,numcep=config.nfeat, nfilt=config.nfilt,\n",
        "                        nfft=config.nfft) #Noted that in here the ata is tranformed into MFCC type\n",
        "\n",
        "        # Scale data\n",
        "        _min = min(np.amin(X_sample), _min)\n",
        "        _max = max(np.amax(X_sample), _max)\n",
        "        \n",
        "        # Put data into an array\n",
        "        X.append(X_sample)\n",
        "        y.append(classes.index(label))\n",
        "    \n",
        "    config.min = _min\n",
        "    config.max = _max\n",
        "\n",
        "    # Convert to numpy array\n",
        "    X, y = np.array(X), np.array(y)\n",
        "    X = (X - _min) / (_max - _min)\n",
        "    \n",
        "    # Resize data according to its mode\n",
        "    if config.mode == 'conv':\n",
        "        X = X.reshape(X.shape[0], X.shape[1], X.shape[2], 1)\n",
        "    elif config.mode == 'mlp':\n",
        "        X = X.reshape(X.shape[0], X.shape[1], X.shape[2])\n",
        "    \n",
        "    y = to_categorical(y, num_classes = 3)\n",
        "    config.data = (X, y)\n",
        "    \n",
        "    with open(config.p_path, 'wb') as handle:\n",
        "        pickle.dump(config, handle, protocol=2)\n",
        "    \n",
        "    return X, y"
      ],
      "execution_count": null,
      "outputs": []
    },
    {
      "cell_type": "markdown",
      "metadata": {
        "id": "w0AB7HN7Wdgw"
      },
      "source": [
        "### 4.B. Visualize data distribution"
      ]
    },
    {
      "cell_type": "code",
      "metadata": {
        "id": "57Pk_xJ-q1kz"
      },
      "source": [
        "# Get file names of the training set\n",
        "df = pd.read_csv('/content/train_sound.csv')\n",
        "df.set_index('fname', inplace=True)\n",
        "\n",
        "# Read the file based on the file names we have acquired\n",
        "for f in df.index:\n",
        "    rate, signal = wavfile.read('train_files/'+f)\n",
        "    df.at[f, 'length'] = signal.shape[0]/rate\n",
        "\n",
        "classes = list(np.unique(df.label))\n",
        "class_dist = df.groupby(['label'])['length'].mean()\n",
        " \n",
        "prob_dist = class_dist / class_dist.sum()\n",
        "choices = np.random.choice(class_dist.index, p=prob_dist)"
      ],
      "execution_count": null,
      "outputs": []
    },
    {
      "cell_type": "code",
      "metadata": {
        "id": "LP-VeS1FnHUk"
      },
      "source": [
        "#We sample through 0.1 s of each audio, \n",
        "#We use the factor 2 to avoid moving exactly after 0.1s to the next 0.1s directly \n",
        "#Instead, take a 0.05s step forward and then sample the next 0.1s from that point\n",
        "#It means that the second half of the last sample becomes the first half \n",
        "#of the next sample. E.g; first sample time range: 0.1s to 0.2s, \n",
        "#second sample time range: 0.15s to 0.25s\n",
        "n_samples = 2 * int(df['length'].sum()/0.1) "
      ],
      "execution_count": null,
      "outputs": []
    },
    {
      "cell_type": "code",
      "metadata": {
        "id": "PbQqtJUCq1k9",
        "outputId": "e8185204-8dce-4384-ccf3-0e9efb04e653",
        "colab": {
          "base_uri": "https://localhost:8080/",
          "height": 287
        }
      },
      "source": [
        "fig, ax = plt.subplots()\n",
        "ax.set_title('Class Distribution', y=1.08)\n",
        "ax.pie(class_dist, labels=class_dist.index, autopct='%1.1f%%',\n",
        "       shadow=False, startangle=90)\n",
        "ax.axis('equal')\n",
        "plt.show()"
      ],
      "execution_count": null,
      "outputs": [
        {
          "output_type": "display_data",
          "data": {
            "image/png": "[encoded data removed]",
            "text/plain": [
              "<Figure size 432x288 with 1 Axes>"
            ]
          },
          "metadata": {
            "tags": []
          }
        }
      ]
    },
    {
      "cell_type": "markdown",
      "metadata": {
        "id": "foDwxwP6twqK"
      },
      "source": [
        "## 5. Build Neural Network Model"
      ]
    },
    {
      "cell_type": "markdown",
      "metadata": {
        "id": "t9ZG8iwFdVvQ"
      },
      "source": [
        "### 5.A. Convolutional Neural Networks"
      ]
    },
    {
      "cell_type": "code",
      "metadata": {
        "id": "AvIrSF2zq1kA"
      },
      "source": [
        "# Build CNN Model\n",
        "def get_conv_model():\n",
        "    model = Sequential()\n",
        "    model.add(Conv2D(64, (3,3), activation='relu', strides=(1,1), \n",
        "                     padding='same'))\n",
        "    model.add(MaxPool2D(2,2))\n",
        "    model.add(Dropout(0.2))\n",
        "    model.add(Conv2D(32, (3,3), activation='relu', strides=(1,1), \n",
        "                     padding='same'))\n",
        "    model.add(MaxPool2D(2,2))\n",
        "    model.add(Dropout(0.2))\n",
        "    model.add(Flatten())\n",
        "    model.add(Dense(3, activation='softmax'))\n",
        "    #model.summary()\n",
        "    model.compile(loss='categorical_crossentropy', \n",
        "                  optimizer=keras.optimizers.Adam(lr=0.001), \n",
        "                  metrics=['acc'] )\n",
        "    return model"
      ],
      "execution_count": null,
      "outputs": []
    },
    {
      "cell_type": "markdown",
      "metadata": {
        "id": "NOEd9kXudbTG"
      },
      "source": [
        "### 5.B. Multi Layer Perceptron (MLP)"
      ]
    },
    {
      "cell_type": "code",
      "metadata": {
        "id": "WtIoXHFPq1kp"
      },
      "source": [
        "# Build MLP model \n",
        "def get_mlp_model():\n",
        "    model = Sequential()\n",
        "    model.add(Flatten())\n",
        "    model.add(Dense(128, activation='relu'))\n",
        "    model.add(Dropout(0.2))\n",
        "    model.add(Dense(64, activation='relu'))\n",
        "    model.add(Dropout(0.2))\n",
        "    model.add(Dense(32, activation='relu'))\n",
        "    model.add(Dense(3, activation='softmax'))\n",
        "    model.compile(loss='categorical_crossentropy', \n",
        "                  optimizer=keras.optimizers.Adam(lr=0.0015), \n",
        "                  metrics=['acc'] )\n",
        "    return model"
      ],
      "execution_count": null,
      "outputs": []
    },
    {
      "cell_type": "markdown",
      "metadata": {
        "id": "bWsCVeCoW1aP"
      },
      "source": [
        "## 6. Train the model"
      ]
    },
    {
      "cell_type": "markdown",
      "metadata": {
        "id": "M0RegmBodhx8"
      },
      "source": [
        "### 6.A. Define which architecture to use"
      ]
    },
    {
      "cell_type": "code",
      "metadata": {
        "scrolled": false,
        "id": "fk_EtOHUq1lL",
        "outputId": "ea9a8c76-86d9-4a5a-8e75-3573ae2c962f",
        "colab": {
          "base_uri": "https://localhost:8080/",
          "height": 36
        }
      },
      "source": [
        "# Define neural network type\n",
        "config = Config(mode='conv')\n",
        "\n",
        "if config.mode == 'conv':\n",
        "    X, y = build_rand_feat()\n",
        "    y_flat = np.argmax(y, axis=1) #return the index value\n",
        "    input_shape = (X.shape[1], X.shape[2], 1)\n",
        "    model = get_conv_model()\n",
        "    \n",
        "elif config.mode == 'mlp':\n",
        "    X, y = build_rand_feat()\n",
        "    y_flat = np.argmax(y, axis=1) #return the index value\n",
        "    input_shape = (X.shape[1], X.shape[2])\n",
        "    model = get_mlp_model()"
      ],
      "execution_count": null,
      "outputs": [
        {
          "output_type": "stream",
          "text": [
            "100%|██████████| 10800/10800 [00:50<00:00, 213.41it/s]\n"
          ],
          "name": "stderr"
        }
      ]
    },
    {
      "cell_type": "markdown",
      "metadata": {
        "id": "sD6O-23LdoJO"
      },
      "source": [
        "### 6.B. Run the training"
      ]
    },
    {
      "cell_type": "code",
      "metadata": {
        "id": "Cr3yI6NbbL_S",
        "outputId": "e9506a8f-1395-4f27-9071-9db8cd78a72e",
        "colab": {
          "base_uri": "https://localhost:8080/",
          "height": 860
        }
      },
      "source": [
        "# Estimate class weights for unbalanced datasets.\n",
        "class_weight = compute_class_weight('balanced', \n",
        "                                    np.unique(y_flat),\n",
        "                                    y_flat)\n",
        "\n",
        "# Save if accuracy increase\n",
        "checkpoint = ModelCheckpoint(config.model_path, monitor='val_acc', verbose=1, mode='max',\n",
        "                             save_best_only=True, save_weights_only=False, period=1)\n",
        "\n",
        "# Run the model training\n",
        "history = model.fit(X, y, epochs=10, batch_size=64, \n",
        "          shuffle=True, validation_split=0.1, # Use 10% of the training set as validation set\n",
        "          callbacks = [checkpoint])"
      ],
      "execution_count": null,
      "outputs": [
        {
          "output_type": "stream",
          "text": [
            "WARNING:tensorflow:`period` argument is deprecated. Please use `save_freq` to specify the frequency in number of batches seen.\n",
            "Epoch 1/10\n",
            "151/152 [============================>.] - ETA: 0s - loss: 0.8019 - acc: 0.6595\n",
            "Epoch 00001: val_acc improved from -inf to 0.97593, saving model to models/conv.model\n",
            "INFO:tensorflow:Assets written to: models/conv.model/assets\n",
            "152/152 [==============================] - 6s 38ms/step - loss: 0.7990 - acc: 0.6611 - val_loss: 0.2807 - val_acc: 0.9759\n",
            "Epoch 2/10\n",
            "151/152 [============================>.] - ETA: 0s - loss: 0.1885 - acc: 0.9560\n",
            "Epoch 00002: val_acc improved from 0.97593 to 0.98611, saving model to models/conv.model\n",
            "INFO:tensorflow:Assets written to: models/conv.model/assets\n",
            "152/152 [==============================] - 6s 39ms/step - loss: 0.1886 - acc: 0.9558 - val_loss: 0.0820 - val_acc: 0.9861\n",
            "Epoch 3/10\n",
            "151/152 [============================>.] - ETA: 0s - loss: 0.0878 - acc: 0.9801\n",
            "Epoch 00003: val_acc improved from 0.98611 to 0.99722, saving model to models/conv.model\n",
            "INFO:tensorflow:Assets written to: models/conv.model/assets\n",
            "152/152 [==============================] - 6s 37ms/step - loss: 0.0877 - acc: 0.9802 - val_loss: 0.0542 - val_acc: 0.9972\n",
            "Epoch 4/10\n",
            "151/152 [============================>.] - ETA: 0s - loss: 0.0635 - acc: 0.9826\n",
            "Epoch 00004: val_acc did not improve from 0.99722\n",
            "152/152 [==============================] - 5s 32ms/step - loss: 0.0634 - acc: 0.9827 - val_loss: 0.0256 - val_acc: 0.9963\n",
            "Epoch 5/10\n",
            "151/152 [============================>.] - ETA: 0s - loss: 0.0569 - acc: 0.9831\n",
            "Epoch 00005: val_acc did not improve from 0.99722\n",
            "152/152 [==============================] - 5s 32ms/step - loss: 0.0569 - acc: 0.9831 - val_loss: 0.0261 - val_acc: 0.9944\n",
            "Epoch 6/10\n",
            "151/152 [============================>.] - ETA: 0s - loss: 0.0451 - acc: 0.9859\n",
            "Epoch 00006: val_acc did not improve from 0.99722\n",
            "152/152 [==============================] - 5s 33ms/step - loss: 0.0450 - acc: 0.9860 - val_loss: 0.0181 - val_acc: 0.9972\n",
            "Epoch 7/10\n",
            "151/152 [============================>.] - ETA: 0s - loss: 0.0448 - acc: 0.9844\n",
            "Epoch 00007: val_acc did not improve from 0.99722\n",
            "152/152 [==============================] - 5s 32ms/step - loss: 0.0447 - acc: 0.9844 - val_loss: 0.0165 - val_acc: 0.9963\n",
            "Epoch 8/10\n",
            "151/152 [============================>.] - ETA: 0s - loss: 0.0333 - acc: 0.9907\n",
            "Epoch 00008: val_acc did not improve from 0.99722\n",
            "152/152 [==============================] - 5s 32ms/step - loss: 0.0332 - acc: 0.9906 - val_loss: 0.0439 - val_acc: 0.9824\n",
            "Epoch 9/10\n",
            "151/152 [============================>.] - ETA: 0s - loss: 0.0334 - acc: 0.9886\n",
            "Epoch 00009: val_acc did not improve from 0.99722\n",
            "152/152 [==============================] - 5s 32ms/step - loss: 0.0333 - acc: 0.9887 - val_loss: 0.0127 - val_acc: 0.9972\n",
            "Epoch 10/10\n",
            "151/152 [============================>.] - ETA: 0s - loss: 0.0346 - acc: 0.9885\n",
            "Epoch 00010: val_acc did not improve from 0.99722\n",
            "152/152 [==============================] - 5s 32ms/step - loss: 0.0345 - acc: 0.9885 - val_loss: 0.0124 - val_acc: 0.9972\n"
          ],
          "name": "stdout"
        }
      ]
    },
    {
      "cell_type": "code",
      "metadata": {
        "id": "q2xkyMTMF-hr",
        "outputId": "27957d6a-f7c9-4738-ac20-24fef0e2093b",
        "colab": {
          "base_uri": "https://localhost:8080/",
          "height": 466
        }
      },
      "source": [
        "model.summary()"
      ],
      "execution_count": null,
      "outputs": [
        {
          "output_type": "stream",
          "text": [
            "Model: \"sequential_1\"\n",
            "_________________________________________________________________\n",
            "Layer (type)                 Output Shape              Param #   \n",
            "=================================================================\n",
            "conv2d (Conv2D)              (None, 19, 13, 64)        640       \n",
            "_________________________________________________________________\n",
            "max_pooling2d (MaxPooling2D) (None, 9, 6, 64)          0         \n",
            "_________________________________________________________________\n",
            "dropout_2 (Dropout)          (None, 9, 6, 64)          0         \n",
            "_________________________________________________________________\n",
            "conv2d_1 (Conv2D)            (None, 9, 6, 32)          18464     \n",
            "_________________________________________________________________\n",
            "max_pooling2d_1 (MaxPooling2 (None, 4, 3, 32)          0         \n",
            "_________________________________________________________________\n",
            "dropout_3 (Dropout)          (None, 4, 3, 32)          0         \n",
            "_________________________________________________________________\n",
            "flatten_1 (Flatten)          (None, 384)               0         \n",
            "_________________________________________________________________\n",
            "dense_4 (Dense)              (None, 3)                 1155      \n",
            "=================================================================\n",
            "Total params: 20,259\n",
            "Trainable params: 20,259\n",
            "Non-trainable params: 0\n",
            "_________________________________________________________________\n"
          ],
          "name": "stdout"
        }
      ]
    },
    {
      "cell_type": "markdown",
      "metadata": {
        "id": "mznuXRuncwIF"
      },
      "source": [
        "### 6.C. Plot training and validation accuracy"
      ]
    },
    {
      "cell_type": "code",
      "metadata": {
        "id": "aU8YqT7KbTir",
        "outputId": "859d5fdf-89cc-451e-8676-fd284c0b4f5c",
        "colab": {
          "base_uri": "https://localhost:8080/",
          "height": 632
        }
      },
      "source": [
        "# Plot training & validation accuracy values\n",
        "plt.plot(history.history['acc'])\n",
        "plt.plot(history.history['val_acc'])\n",
        "plt.title('Model accuracy')\n",
        "plt.ylabel('Accuracy')\n",
        "plt.xlabel('Epoch')\n",
        "plt.legend(['Train', 'Validation'], loc='upper left')\n",
        "plt.show()\n",
        "\n",
        "# Plot training & validation loss values\n",
        "plt.plot(history.history['loss'])\n",
        "plt.plot(history.history['val_loss'])\n",
        "plt.title('Model loss')\n",
        "plt.ylabel('Loss')\n",
        "plt.xlabel('Epoch')\n",
        "plt.legend(['Train', 'Validation'], loc='upper left')\n",
        "plt.show()\n",
        "\n",
        "model.save(config.model_path)"
      ],
      "execution_count": null,
      "outputs": [
        {
          "output_type": "display_data",
          "data": {
            "image/png": "[encoded data removed]",
            "text/plain": [
              "<Figure size 432x288 with 1 Axes>"
            ]
          },
          "metadata": {
            "tags": []
          }
        },
        {
          "output_type": "display_data",
          "data": {
            "image/png": "[encoded data removed]",
            "text/plain": [
              "<Figure size 432x288 with 1 Axes>"
            ]
          },
          "metadata": {
            "tags": []
          }
        },
        {
          "output_type": "stream",
          "text": [
            "INFO:tensorflow:Assets written to: models/conv.model/assets\n"
          ],
          "name": "stdout"
        }
      ]
    },
    {
      "cell_type": "markdown",
      "metadata": {
        "id": "xTK7lDM10cPo"
      },
      "source": [
        "## 7. Test our model"
      ]
    },
    {
      "cell_type": "code",
      "metadata": {
        "id": "ytQkvX-b0klL"
      },
      "source": [
        "def build_predictions(audio_dir):\n",
        "    y_true = []\n",
        "    y_pred = []\n",
        "    fn_prob = {}\n",
        "    \n",
        "    print('Extracting features from audio')\n",
        "    for fn in tqdm(os.listdir(audio_dir)):\n",
        "        rate, wav = wavfile.read(os.path.join(audio_dir, fn))\n",
        "        label = fn2class[fn]\n",
        "        c = classes.index(label)\n",
        "        y_prob = []\n",
        "        \n",
        "        for i in range(0,wav.shape[0]-config.step, config.step):\n",
        "            sample = wav[i:i+config.step]\n",
        "            X =  mfcc(sample, rate,numcep=config.nfeat, \n",
        "                      nfilt=config.nfilt, nfft=config.nfft)\n",
        "            X = (X - config.min)/(config.max - config.min)\n",
        "            \n",
        "            if config.mode == 'conv':\n",
        "                X = X.reshape(1, X.shape[0], X.shape[1], 1)\n",
        "            elif config.mode == 'mlp':\n",
        "                X = np.expand_dims(X, axis=0)\n",
        "            y_hat = model.predict(X)\n",
        "            y_prob.append(y_hat)\n",
        "            y_pred.append(np.argmax(y_hat))\n",
        "            y_true.append(c)\n",
        "            \n",
        "        fn_prob[fn] = np.mean(y_prob, axis=0).flatten()\n",
        "    \n",
        "    return y_true, y_pred, fn_prob"
      ],
      "execution_count": null,
      "outputs": []
    },
    {
      "cell_type": "code",
      "metadata": {
        "id": "5jw7DYdT64t5"
      },
      "source": [
        "# Load test csv\n",
        "df = pd.read_csv('test_sound.csv')\n",
        "\n",
        "# Define available class\n",
        "classes = list(np.unique(df.label))\n",
        "\n",
        "# Dictionary of file name and its label\n",
        "fn2class = dict(zip(df.fname, df.label))\n",
        "\n",
        "# Define pickle path\n",
        "p_path = os.path.join('pickles','conv.p')\n",
        "\n",
        "# Load pickle\n",
        "with open(p_path, 'rb') as handle:\n",
        "    config = pickle.load(handle)\n",
        "\n",
        "# Load model\n",
        "model = load_model(config.model_path)"
      ],
      "execution_count": null,
      "outputs": []
    },
    {
      "cell_type": "code",
      "metadata": {
        "id": "06QH6ZhO3e_X",
        "outputId": "507ebcf9-ee25-4b33-de1d-ee27dfc3e989",
        "colab": {
          "base_uri": "https://localhost:8080/",
          "height": 73
        }
      },
      "source": [
        "# Predict score\n",
        "y_true, y_pred, fn_prob = build_predictions('test_files/') \n",
        "\n",
        "# Calculate accuracy score\n",
        "acc_score = accuracy_score(y_true=y_true, y_pred=y_pred)\n",
        "print(acc_score)"
      ],
      "execution_count": null,
      "outputs": [
        {
          "output_type": "stream",
          "text": [
            "\r  0%|          | 0/90 [00:00<?, ?it/s]"
          ],
          "name": "stderr"
        },
        {
          "output_type": "stream",
          "text": [
            "Extracting features from audio\n"
          ],
          "name": "stdout"
        },
        {
          "output_type": "stream",
          "text": [
            "100%|██████████| 90/90 [00:32<00:00,  2.74it/s]"
          ],
          "name": "stderr"
        },
        {
          "output_type": "stream",
          "text": [
            "0.9938271604938271\n"
          ],
          "name": "stdout"
        },
        {
          "output_type": "stream",
          "text": [
            "\n"
          ],
          "name": "stderr"
        }
      ]
    },
    {
      "cell_type": "code",
      "metadata": {
        "id": "vd7EgwY_29gW",
        "outputId": "3557c83c-ab76-42c0-c8fa-15158f4e296c",
        "colab": {
          "base_uri": "https://localhost:8080/",
          "height": 36
        }
      },
      "source": [
        "print(acc_score)"
      ],
      "execution_count": null,
      "outputs": [
        {
          "output_type": "stream",
          "text": [
            "0.9938271604938271\n"
          ],
          "name": "stdout"
        }
      ]
    },
    {
      "cell_type": "markdown",
      "metadata": {
        "id": "Nw0XQpyE8Ebs"
      },
      "source": [
        "## 8. Evaluation"
      ]
    },
    {
      "cell_type": "markdown",
      "metadata": {
        "id": "Pe8bgKEvJcNw"
      },
      "source": [
        "### 8.A. Precision, Recall, F-1"
      ]
    },
    {
      "cell_type": "code",
      "metadata": {
        "id": "Lblx95U2ITqQ",
        "outputId": "7a6b1af0-9e49-47e5-b735-eb09173429b3",
        "colab": {
          "base_uri": "https://localhost:8080/",
          "height": 204
        }
      },
      "source": [
        "print(classification_report(y_true, y_pred, target_names=classes))"
      ],
      "execution_count": null,
      "outputs": [
        {
          "output_type": "stream",
          "text": [
            "              precision    recall  f1-score   support\n",
            "\n",
            "       00_00       1.00      0.98      0.99       270\n",
            "       00_30       0.98      1.00      0.99       270\n",
            "       00_60       1.00      1.00      1.00       270\n",
            "\n",
            "    accuracy                           0.99       810\n",
            "   macro avg       0.99      0.99      0.99       810\n",
            "weighted avg       0.99      0.99      0.99       810\n",
            "\n"
          ],
          "name": "stdout"
        }
      ]
    },
    {
      "cell_type": "markdown",
      "metadata": {
        "id": "1lneNKcCJjS8"
      },
      "source": [
        "### 8.B. Confusion Matrix"
      ]
    },
    {
      "cell_type": "code",
      "metadata": {
        "id": "_D2fbReG8K8y"
      },
      "source": [
        "con_mat = tf.math.confusion_matrix(labels=y_true,predictions=y_pred)"
      ],
      "execution_count": null,
      "outputs": []
    },
    {
      "cell_type": "code",
      "metadata": {
        "id": "nfMUwyPu9gud",
        "outputId": "ac1484e5-97f2-405f-f0c0-7054317370b2",
        "colab": {
          "base_uri": "https://localhost:8080/",
          "height": 129
        }
      },
      "source": [
        "# Print confusion matrix\n",
        "print('Confusion Matrix: \\n\\n', con_mat)"
      ],
      "execution_count": null,
      "outputs": [
        {
          "output_type": "stream",
          "text": [
            "Confusion Matrix: \n",
            "\n",
            " tf.Tensor(\n",
            "[[265   5   0]\n",
            " [  0 270   0]\n",
            " [  0   0 270]], shape=(3, 3), dtype=int32)\n"
          ],
          "name": "stdout"
        }
      ]
    },
    {
      "cell_type": "code",
      "metadata": {
        "id": "Ww6UWocv91ET"
      },
      "source": [
        "# Change to numpy\n",
        "a = con_mat.numpy()\n",
        "\n",
        "# Normalize convolution matrix\n",
        "a_norm = np.around(a.astype('float') / a.sum(axis=1)[:, np.newaxis], decimals=2)"
      ],
      "execution_count": null,
      "outputs": []
    },
    {
      "cell_type": "code",
      "metadata": {
        "id": "lJ-KDfEc51VL",
        "outputId": "2cfba314-f0c4-49b2-b371-892a721a93de",
        "colab": {
          "base_uri": "https://localhost:8080/",
          "height": 465
        }
      },
      "source": [
        "# Draw confusion matrix\n",
        "\n",
        "df_cm = pd.DataFrame(a_norm, index = [i for i in classes],\n",
        "                  columns = [i for i in classes])\n",
        "\n",
        "plt.figure(figsize = (10,7))\n",
        "sn.set(font_scale=1.4) \n",
        "sn.heatmap(df_cm, annot=True, annot_kws={\"size\": 16}, cmap=\"YlGnBu\")\n",
        "\n",
        "plt.ylabel('True label', fontsize=18, color=\"blue\")\n",
        "plt.xlabel('Predicted label', fontsize=18, color=\"blue\")\n",
        "plt.show()"
      ],
      "execution_count": null,
      "outputs": [
        {
          "output_type": "display_data",
          "data": {
            "image/png": "[encoded data removed]",
            "text/plain": [
              "<Figure size 720x504 with 2 Axes>"
            ]
          },
          "metadata": {
            "tags": []
          }
        }
      ]
    },
    {
      "cell_type": "markdown",
      "metadata": {
        "id": "TzywN8I1d1MD"
      },
      "source": [
        "# End of Project\n",
        "\n",
        "## Sources:\n",
        "* https://github.com/seth814/Audio-Classification\n",
        "* https://github.com/arief25ramadhan/Sound-Source-Localization"
      ]
    }
  ]
}